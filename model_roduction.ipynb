{
 "cells": [
  {
   "cell_type": "code",
   "execution_count": 20,
   "id": "9d18d522",
   "metadata": {
    "ExecuteTime": {
     "end_time": "2022-05-22T16:42:24.494555Z",
     "start_time": "2022-05-22T16:42:24.385692Z"
    }
   },
   "outputs": [
    {
     "data": {
      "text/html": [
       "<div>\n",
       "<style scoped>\n",
       "    .dataframe tbody tr th:only-of-type {\n",
       "        vertical-align: middle;\n",
       "    }\n",
       "\n",
       "    .dataframe tbody tr th {\n",
       "        vertical-align: top;\n",
       "    }\n",
       "\n",
       "    .dataframe thead th {\n",
       "        text-align: right;\n",
       "    }\n",
       "</style>\n",
       "<table border=\"1\" class=\"dataframe\">\n",
       "  <thead>\n",
       "    <tr style=\"text-align: right;\">\n",
       "      <th></th>\n",
       "      <th>diagonal</th>\n",
       "      <th>height_left</th>\n",
       "      <th>height_right</th>\n",
       "      <th>margin_low</th>\n",
       "      <th>margin_up</th>\n",
       "      <th>length</th>\n",
       "      <th>genuine_predict</th>\n",
       "    </tr>\n",
       "    <tr>\n",
       "      <th>id</th>\n",
       "      <th></th>\n",
       "      <th></th>\n",
       "      <th></th>\n",
       "      <th></th>\n",
       "      <th></th>\n",
       "      <th></th>\n",
       "      <th></th>\n",
       "    </tr>\n",
       "  </thead>\n",
       "  <tbody>\n",
       "    <tr>\n",
       "      <th>B_1</th>\n",
       "      <td>172.09</td>\n",
       "      <td>103.95</td>\n",
       "      <td>103.73</td>\n",
       "      <td>4.39</td>\n",
       "      <td>3.09</td>\n",
       "      <td>113.19</td>\n",
       "      <td>1</td>\n",
       "    </tr>\n",
       "    <tr>\n",
       "      <th>B_2</th>\n",
       "      <td>171.52</td>\n",
       "      <td>104.17</td>\n",
       "      <td>104.03</td>\n",
       "      <td>5.27</td>\n",
       "      <td>3.16</td>\n",
       "      <td>111.82</td>\n",
       "      <td>0</td>\n",
       "    </tr>\n",
       "    <tr>\n",
       "      <th>B_3</th>\n",
       "      <td>171.78</td>\n",
       "      <td>103.80</td>\n",
       "      <td>103.75</td>\n",
       "      <td>3.81</td>\n",
       "      <td>3.24</td>\n",
       "      <td>113.39</td>\n",
       "      <td>1</td>\n",
       "    </tr>\n",
       "    <tr>\n",
       "      <th>B_4</th>\n",
       "      <td>172.02</td>\n",
       "      <td>104.08</td>\n",
       "      <td>103.99</td>\n",
       "      <td>5.57</td>\n",
       "      <td>3.30</td>\n",
       "      <td>111.10</td>\n",
       "      <td>0</td>\n",
       "    </tr>\n",
       "    <tr>\n",
       "      <th>B_5</th>\n",
       "      <td>171.79</td>\n",
       "      <td>104.34</td>\n",
       "      <td>104.37</td>\n",
       "      <td>5.00</td>\n",
       "      <td>3.07</td>\n",
       "      <td>111.87</td>\n",
       "      <td>0</td>\n",
       "    </tr>\n",
       "  </tbody>\n",
       "</table>\n",
       "</div>"
      ],
      "text/plain": [
       "     diagonal  height_left  height_right  margin_low  margin_up  length  \\\n",
       "id                                                                        \n",
       "B_1    172.09       103.95        103.73        4.39       3.09  113.19   \n",
       "B_2    171.52       104.17        104.03        5.27       3.16  111.82   \n",
       "B_3    171.78       103.80        103.75        3.81       3.24  113.39   \n",
       "B_4    172.02       104.08        103.99        5.57       3.30  111.10   \n",
       "B_5    171.79       104.34        104.37        5.00       3.07  111.87   \n",
       "\n",
       "     genuine_predict  \n",
       "id                    \n",
       "B_1                1  \n",
       "B_2                0  \n",
       "B_3                1  \n",
       "B_4                0  \n",
       "B_5                0  "
      ]
     },
     "execution_count": 20,
     "metadata": {},
     "output_type": "execute_result"
    }
   ],
   "source": [
    "import pandas as pd\n",
    "import seaborn as sns\n",
    "import pickle\n",
    "\n",
    "# load the dataset\n",
    "df = pd.read_csv('test_notes (1).csv', index_col='id') \n",
    "\n",
    "# load saved model\n",
    "with open('model_billet.pkl', 'rb') as f:  \n",
    "    genuine = pickle.load(f)\n",
    "    \n",
    "    \n",
    "# retrieve predictions    \n",
    "genuine.predict(df[['length', 'margin_low']]).values\n",
    "\n",
    "# insert prediction in a category of original dataset\n",
    "threshold = 0.5\n",
    "# transforms the list of booleans into an int with 1 = True, 0 = False\n",
    "genuine_predict = (genuine.predict(df[['length', 'margin_low']]).values > threshold).astype(int)\n",
    "df['genuine_predict'] = genuine_predict\n",
    "df"
   ]
  },
  {
   "cell_type": "code",
   "execution_count": 21,
   "id": "e0154521",
   "metadata": {
    "ExecuteTime": {
     "end_time": "2022-05-22T16:42:28.362751Z",
     "start_time": "2022-05-22T16:42:28.087793Z"
    }
   },
   "outputs": [
    {
     "name": "stderr",
     "output_type": "stream",
     "text": [
      "/Users/michelabessolo/opt/anaconda3/lib/python3.8/site-packages/seaborn/distributions.py:2557: FutureWarning: `distplot` is a deprecated function and will be removed in a future version. Please adapt your code to use either `displot` (a figure-level function with similar flexibility) or `histplot` (an axes-level function for histograms).\n",
      "  warnings.warn(msg, FutureWarning)\n"
     ]
    },
    {
     "data": {
      "text/plain": [
       "<AxesSubplot:ylabel='Density'>"
      ]
     },
     "execution_count": 21,
     "metadata": {},
     "output_type": "execute_result"
    },
    {
     "data": {
      "image/png": "[encoded data removed]",
      "text/plain": [
       "<Figure size 432x288 with 1 Axes>"
      ]
     },
     "metadata": {
      "needs_background": "light"
     },
     "output_type": "display_data"
    }
   ],
   "source": [
    "sns.distplot(genuine.predict(df[['length', 'margin_low']]).values)"
   ]
  },
  {
   "cell_type": "code",
   "execution_count": null,
   "id": "dbf066bb",
   "metadata": {},
   "outputs": [],
   "source": [
    "sns.distplot(predicted_class_prob)"
   ]
  }
 ],
 "metadata": {
  "kernelspec": {
   "display_name": "Python 3",
   "language": "python",
   "name": "python3"
  },
  "language_info": {
   "codemirror_mode": {
    "name": "ipython",
    "version": 3
   },
   "file_extension": ".py",
   "mimetype": "text/x-python",
   "name": "python",
   "nbconvert_exporter": "python",
   "pygments_lexer": "ipython3",
   "version": "3.8.8"
  },
  "toc": {
   "base_numbering": 1,
   "nav_menu": {},
   "number_sections": true,
   "sideBar": true,
   "skip_h1_title": false,
   "title_cell": "Table of Contents",
   "title_sidebar": "Contents",
   "toc_cell": false,
   "toc_position": {},
   "toc_section_display": true,
   "toc_window_display": false
  },
  "varInspector": {
   "cols": {
    "lenName": 16,
    "lenType": 16,
    "lenVar": 40
   },
   "kernels_config": {
    "python": {
     "delete_cmd_postfix": "",
     "delete_cmd_prefix": "del ",
     "library": "var_list.py",
     "varRefreshCmd": "print(var_dic_list())"
    },
    "r": {
     "delete_cmd_postfix": ") ",
     "delete_cmd_prefix": "rm(",
     "library": "var_list.r",
     "varRefreshCmd": "cat(var_dic_list()) "
    }
   },
   "types_to_exclude": [
    "module",
    "function",
    "builtin_function_or_method",
    "instance",
    "_Feature"
   ],
   "window_display": false
  }
 },
 "nbformat": 4,
 "nbformat_minor": 5
}
